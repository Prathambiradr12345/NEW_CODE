{
 "cells": [
  {
   "cell_type": "code",
   "execution_count": 23,
   "id": "24233803-a6cd-48a6-87dd-1adac378d190",
   "metadata": {},
   "outputs": [],
   "source": [
    "import pandas as pd\n",
    "customers = pd.read_csv('Customers.csv')\n",
    "transactions = pd.read_csv('Transactions.csv')\n",
    "products = pd.read_csv('Products.csv')"
   ]
  },
  {
   "cell_type": "code",
   "execution_count": 24,
   "id": "1d335c86-691e-44a0-af83-cd0395af7d49",
   "metadata": {},
   "outputs": [],
   "source": [
    "merged_data = transactions.merge(customers, on='CustomerID')\n",
    "\n",
    "customer_features = merged_data.groupby('CustomerID').agg({\n",
    "    'TotalValue': 'sum',  # Total revenue by customer with customerid\n",
    "    'Quantity': 'sum',     # Total quantity by customer \n",
    "    'Region': 'first',     # Customer region\n",
    "    'ProductID': lambda x: ' '.join(x)  \n",
    "}).reset_index()"
   ]
  },
  {
   "cell_type": "code",
   "execution_count": 25,
   "id": "3249b727-3b22-44f9-9f17-6245a4938757",
   "metadata": {},
   "outputs": [],
   "source": [
    "from sklearn.feature_extraction.text import TfidfVectorizer\n",
    "tfidf = TfidfVectorizer()# Convert categorical data to numerical \n",
    "product_matrix = tfidf.fit_transform(customer_features['ProductID'])\n",
    "numerical_features = customer_features[['TotalValue', 'Quantity']]# Combine numerical features"
   ]
  },
  {
   "cell_type": "code",
   "execution_count": 29,
   "id": "e4561696-8445-4e20-a550-9d3b4356b3e4",
   "metadata": {},
   "outputs": [],
   "source": [
    "from sklearn.metrics.pairwise import cosine_similarity\n",
    "from sklearn.preprocessing import StandardScaler\n",
    "scaler = StandardScaler()\n",
    "scaled_numerical_features = scaler.fit_transform(numerical_features)\n",
    "final_features = pd.concat([pd.DataFrame(scaled_numerical_features), pd.DataFrame(product_matrix.toarray())], axis=1)# Combine all features\n",
    "similarity_matrix = cosine_similarity(final_features)# Calculate similarity scores"
   ]
  },
  {
   "cell_type": "code",
   "execution_count": 30,
   "id": "5fd0d195-58a9-4d49-9171-c30d786beb2b",
   "metadata": {},
   "outputs": [],
   "source": [
    "\n",
    "lookalike_list = []# Create  list\n",
    "for i in range(20):  # For customers\n",
    "    customer_id = customer_features['CustomerID'].iloc[i]\n",
    "    similarity_scores = similarity_matrix[i]  \n",
    "    similar_indices = similarity_scores.argsort()[-4:-1][::-1]  #indices of the top 3 similar customers\n",
    "    similar_customers = customer_features['CustomerID'].iloc[similar_indices].tolist()\n",
    "    scores = similarity_scores[similar_indices].tolist()\n"
   ]
  },
  {
   "cell_type": "code",
   "execution_count": 31,
   "id": "13b7869e-69d6-4890-b134-8289f355ba72",
   "metadata": {},
   "outputs": [
    {
     "name": "stdout",
     "output_type": "stream",
     "text": [
      "Lookalike model generated and saved to Lookalike.csv\n"
     ]
    }
   ],
   "source": [
    " for similar_customer, score in zip(similar_customers, scores): # Append list\n",
    "        lookalike_list.append({'CustomerID': customer_id, 'SimilarCustomerID': similar_customer, 'Score': score})\n",
    "lookalike_df = pd.DataFrame(lookalike_list)# Create a DataFrame for store customer results\n",
    "lookalike_df.to_csv('Lookalike.csv', index=False)\n",
    "print(\"Lookalike model generated and saved to Lookalike.csv\")"
   ]
  },
  {
   "cell_type": "code",
   "execution_count": null,
   "id": "4a3e5cbb-5f9e-450b-bad4-50608448327b",
   "metadata": {},
   "outputs": [],
   "source": []
  },
  {
   "cell_type": "code",
   "execution_count": null,
   "id": "4818e2b9-c36a-460c-aa61-ed2fc9edb39e",
   "metadata": {},
   "outputs": [],
   "source": []
  }
 ],
 "metadata": {
  "kernelspec": {
   "display_name": "Python 3 (ipykernel)",
   "language": "python",
   "name": "python3"
  },
  "language_info": {
   "codemirror_mode": {
    "name": "ipython",
    "version": 3
   },
   "file_extension": ".py",
   "mimetype": "text/x-python",
   "name": "python",
   "nbconvert_exporter": "python",
   "pygments_lexer": "ipython3",
   "version": "3.12.7"
  }
 },
 "nbformat": 4,
 "nbformat_minor": 5
}
